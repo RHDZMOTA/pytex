{
 "cells": [
  {
   "cell_type": "markdown",
   "metadata": {},
   "source": [
    "# Pytex\n",
    "\n",
    "Usage examples of pytex package."
   ]
  },
  {
   "cell_type": "code",
   "execution_count": 1,
   "metadata": {
    "collapsed": false
   },
   "outputs": [],
   "source": [
    "import pytex"
   ]
  },
  {
   "cell_type": "markdown",
   "metadata": {},
   "source": [
    "Create a document object and specify the configuration."
   ]
  },
  {
   "cell_type": "code",
   "execution_count": 11,
   "metadata": {
    "collapsed": true
   },
   "outputs": [],
   "source": [
    "doc = pytex.Document(\n",
    "    filename=\"example\",\n",
    "    institution=\"Institution Name\",\n",
    "    mayor_heading=\"Mayor Heading\",\n",
    "    minor_heading=\"Minor Heading\",\n",
    "    title=\"Probably a very long title\",\n",
    "    author=\"Author's name\",\n",
    "    supervisor=\"Supervisor's name\"\n",
    ")"
   ]
  },
  {
   "cell_type": "markdown",
   "metadata": {},
   "source": [
    "Add a table of contents. "
   ]
  },
  {
   "cell_type": "code",
   "execution_count": 12,
   "metadata": {
    "collapsed": false
   },
   "outputs": [],
   "source": [
    "doc.add_table_of_contents()"
   ]
  },
  {
   "cell_type": "markdown",
   "metadata": {},
   "source": [
    "You can add multiple elements secuentially. "
   ]
  },
  {
   "cell_type": "code",
   "execution_count": 13,
   "metadata": {
    "collapsed": true
   },
   "outputs": [],
   "source": [
    "doc.add_section(\"First Section's Title\")\n",
    "\n",
    "doc.add_paragraph(\"\"\"\n",
    "First test paragraph. Lorem ipsum dolor sit amet, consectetur adipiscing elit, \n",
    "sed do eiusmod tempor incididunt ut labore et dolore magna aliqua. \n",
    "Ut enim ad minim veniam, quis nostrud exercitation ullamco laboris nisi ut aliquip ex ea commodo consequat. \n",
    "Duis aute irure dolor in reprehenderit in voluptate velit esse cillum dolore eu fugiat nulla pariatur. \n",
    "Excepteur sint occaecat cupidatat non proident, \n",
    "sunt in culpa qui officia deserunt mollit anim id est laborum consectetur adipiscing elit, \n",
    "sed do eiusmod tempor incididunt ut labore et dolore magna aliqua. \n",
    "Ut enim ad minim veniam, quis nostrud exercitation ullamco laboris nisi ut aliquip ex ea commodo consequat.\n",
    "\"\"\")\n",
    "\n",
    "\n",
    "doc.add_paragraph(\"\"\"\n",
    "Second test paragraph. Lorem ipsum dolor sit amet, consectetur adipiscing elit, \n",
    "sed do eiusmod tempor incididunt ut labore et dolore magna aliqua. \n",
    "Ut enim ad minim veniam, quis nostrud exercitation ullamco laboris nisi ut aliquip ex ea commodo consequat. \n",
    "Duis aute irure dolor in reprehenderit in voluptate velit esse cillum dolore eu fugiat nulla pariatur. \n",
    "Excepteur sint occaecat cupidatat non proident, \n",
    "sunt in culpa qui officia deserunt mollit anim id est laborum consectetur adipiscing elit, \n",
    "sed do eiusmod tempor incididunt ut labore et dolore magna aliqua. \n",
    "Ut enim ad minim veniam, quis nostrud exercitation ullamco laboris nisi ut aliquip ex ea commodo consequat.\n",
    "\"\"\")\n",
    "\n",
    "doc.add_paragraph(r\"\"\"\n",
    "This is the black-scholes equation:\n",
    "\"\"\")\n",
    "\n",
    "doc.add_equation(\n",
    "    eq=r\"\\frac{\\partial V}{\\partial t} + \\sigma^2 S^2 \\frac{1}{2} \\frac{\\partial^2V}{\\partial S^2} + rS\\frac{\\partial V}{\\partial S} - rV = 0\",\n",
    "    label=\"bs\")\n",
    "\n",
    "doc.add_paragraph(r\"\"\"References work! See equation \\ref{bs}.\"\"\")\n",
    "\n",
    "\n",
    "doc.add_paragraph(\"\"\"\n",
    "These are some items:\n",
    "\"\"\")\n",
    "\n",
    "doc.add_items([\n",
    "        \"item1\",\n",
    "        \"item2\",\n",
    "        \"item3\"\n",
    "    ])\n",
    "\n",
    "\n",
    "doc.add_paragraph(\"\"\"\n",
    "Now let's code some stuff.\n",
    "\"\"\")\n",
    "\n",
    "doc.add_code(\n",
    "    code_string=\"\"\"\n",
    "    import pytex\n",
    "    import math\n",
    "    doc = pytex.Document(filename=\"file\")\n",
    "    doc.add_section(\"pytex is great\")\n",
    "    doc.add_paragraph(\"The number pi is: {}\".format(math.pi))\n",
    "    for i in range(10):\n",
    "        doc.add_section(\"Section: \" + str(i+2))\n",
    "    \"\"\")\n",
    "\n",
    "doc.add_paragraph(\"\"\"\n",
    "Great!\n",
    "\"\"\")\n"
   ]
  },
  {
   "cell_type": "markdown",
   "metadata": {},
   "source": [
    "Take a look to the tex file."
   ]
  },
  {
   "cell_type": "code",
   "execution_count": 14,
   "metadata": {
    "collapsed": false,
    "scrolled": true
   },
   "outputs": [
    {
     "name": "stdout",
     "output_type": "stream",
     "text": [
      "\n",
      "            \\documentclass[11pt]{article}\n",
      "            \\usepackage[utf8]{inputenc}\n",
      "            \\usepackage[T1]{fontenc}\n",
      "            \\usepackage{amsmath}\n",
      "            \\usepackage{fancyhdr}\n",
      "            \\usepackage{listings}\n",
      "            \\usepackage{color}\n",
      "\n",
      "\n",
      "            \\definecolor{codegreen}{rgb}{0,0.6,0}\n",
      "            \\definecolor{codegray}{rgb}{0.5,0.5,0.5}\n",
      "            \\definecolor{codepurple}{rgb}{0.58,0,0.82}\n",
      "            \\definecolor{backcolour}{rgb}{0.95,0.95,0.92}\n",
      "\n",
      "\n",
      "            \\lstdefinestyle{mystyle}{\n",
      "                backgroundcolor=\\color{backcolour},   \n",
      "                commentstyle=\\color{codegreen},\n",
      "                keywordstyle=\\color{magenta},\n",
      "                numberstyle=\\tiny\\color{codegray},\n",
      "                stringstyle=\\color{codepurple},\n",
      "                basicstyle=\\footnotesize,\n",
      "                breakatwhitespace=false,         \n",
      "                breaklines=true,                 \n",
      "                captionpos=b,                    \n",
      "                keepspaces=true,                 \n",
      "                numbers=left,                    \n",
      "                numbersep=5pt,                  \n",
      "                showspaces=false,                \n",
      "                showstringspaces=false,\n",
      "                showtabs=false,                  \n",
      "                tabsize=2\n",
      "            }\n",
      " \n",
      "            \\lstset{style=mystyle}\n",
      "\n",
      "\n",
      "            \\parindent 0em\n",
      "            \\parskip 2ex\n",
      "            \\pagestyle{fancy}\n",
      "            \\setlength{\\textfloatsep}{5pt}\n",
      "            \\begin{document}\n",
      "        \n",
      "\n",
      "            \\begin{titlepage}\n",
      "            \\newcommand{\\HRule}{\\rule{\\linewidth}{0.5mm}}\n",
      "            \\center\n",
      "\n",
      "            \\textsc{\\LARGE Institution Name}\\\\[1.5cm]\n",
      "            \\textsc{\\Large Mayor Heading}\\\\[0.5cm]\n",
      "            \\textsc{\\large Minor Heading}\\\\[0.5cm]\n",
      "\n",
      "\n",
      "            \\HRule\\\\[0.4cm]\n",
      "            {\\huge\\bfseries Probably a very long title}\\\\[0.4cm]\n",
      "            \\HRule\\\\[1.5cm]\n",
      "\n",
      "            \\begin{minipage}{0.4\\textwidth}\n",
      "                \\begin{flushleft}\n",
      "                \\large\n",
      "                \\textit{Author}\\\\\n",
      "                Author's name\n",
      "                \\end{flushleft}\n",
      "            \\end{minipage}\n",
      "            ~\n",
      "            \\begin{minipage}{0.4\\textwidth}\n",
      "                \\begin{flushright}\n",
      "                \\large\n",
      "                \\textit{Supervisor}\\\\\n",
      "                Supervisor's name\n",
      "                \\end{flushright}\n",
      "            \\end{minipage}\n",
      "\n",
      "            \\vfill\\vfill\\vfill\n",
      "            {\\large\\today}\n",
      "            \n",
      "            \\vfill\n",
      "            \\end{titlepage}\n",
      "            \n",
      "        \n",
      "\\tableofcontents\\newpage\n",
      "\\section{First Section's Title}\n",
      "\n",
      "First test paragraph. Lorem ipsum dolor sit amet, consectetur adipiscing elit, \n",
      "sed do eiusmod tempor incididunt ut labore et dolore magna aliqua. \n",
      "Ut enim ad minim veniam, quis nostrud exercitation ullamco laboris nisi ut aliquip ex ea commodo consequat. \n",
      "Duis aute irure dolor in reprehenderit in voluptate velit esse cillum dolore eu fugiat nulla pariatur. \n",
      "Excepteur sint occaecat cupidatat non proident, \n",
      "sunt in culpa qui officia deserunt mollit anim id est laborum consectetur adipiscing elit, \n",
      "sed do eiusmod tempor incididunt ut labore et dolore magna aliqua. \n",
      "Ut enim ad minim veniam, quis nostrud exercitation ullamco laboris nisi ut aliquip ex ea commodo consequat.\n",
      "\n",
      "\n",
      "Second test paragraph. Lorem ipsum dolor sit amet, consectetur adipiscing elit, \n",
      "sed do eiusmod tempor incididunt ut labore et dolore magna aliqua. \n",
      "Ut enim ad minim veniam, quis nostrud exercitation ullamco laboris nisi ut aliquip ex ea commodo consequat. \n",
      "Duis aute irure dolor in reprehenderit in voluptate velit esse cillum dolore eu fugiat nulla pariatur. \n",
      "Excepteur sint occaecat cupidatat non proident, \n",
      "sunt in culpa qui officia deserunt mollit anim id est laborum consectetur adipiscing elit, \n",
      "sed do eiusmod tempor incididunt ut labore et dolore magna aliqua. \n",
      "Ut enim ad minim veniam, quis nostrud exercitation ullamco laboris nisi ut aliquip ex ea commodo consequat.\n",
      "\n",
      "\n",
      "This is the black-scholes equation:\n",
      "\n",
      "\n",
      "            \\begin{equation} \\label{bs}\n",
      "            \\frac{\\partial V}{\\partial t} + \\sigma^2 S^2 \\frac{1}{2} \\frac{\\partial^2V}{\\partial S^2} + rS\\frac{\\partial V}{\\partial S} - rV = 0\n",
      "            \\end{equation}\n",
      "        \n",
      "References work! See equation \\ref{bs}.\n",
      "\n",
      "These are some items:\n",
      "\n",
      "\n",
      "            \\begin{itemize}\n",
      "            \\item item1\\item item2\\item item3\n",
      "            \\end{itemize}  \n",
      "        \n",
      "\n",
      "Now let's code some stuff.\n",
      "\n",
      "\n",
      "            \\begin{lstlisting}[language=Python]\n",
      "            \n",
      "    import pytex\n",
      "    import math\n",
      "    doc = pytex.Document(filename=\"file\")\n",
      "    doc.add_section(\"pytex is great\")\n",
      "    doc.add_paragraph(\"The number pi is: {}\".format(math.pi))\n",
      "    for i in range(10):\n",
      "        doc.add_section(\"Section: \" + str(i+2))\n",
      "    \n",
      "            \\end{lstlisting}\n",
      "        \n",
      "\n",
      "Great!\n",
      "\n",
      "\\end{document}\n"
     ]
    }
   ],
   "source": [
    "print(doc.to_tex())"
   ]
  },
  {
   "cell_type": "markdown",
   "metadata": {},
   "source": [
    "Compile to pdf file."
   ]
  },
  {
   "cell_type": "code",
   "execution_count": 15,
   "metadata": {
    "collapsed": true
   },
   "outputs": [],
   "source": [
    "doc.compile()"
   ]
  },
  {
   "cell_type": "code",
   "execution_count": null,
   "metadata": {
    "collapsed": true
   },
   "outputs": [],
   "source": []
  }
 ],
 "metadata": {
  "kernelspec": {
   "display_name": "Python 3",
   "language": "python",
   "name": "python3"
  },
  "language_info": {
   "codemirror_mode": {
    "name": "ipython",
    "version": 3
   },
   "file_extension": ".py",
   "mimetype": "text/x-python",
   "name": "python",
   "nbconvert_exporter": "python",
   "pygments_lexer": "ipython3",
   "version": "3.6.3"
  }
 },
 "nbformat": 4,
 "nbformat_minor": 2
}
